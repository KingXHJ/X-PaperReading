{
 "cells": [
  {
   "cell_type": "code",
   "execution_count": 1,
   "metadata": {
    "executionInfo": {
     "elapsed": 4,
     "status": "ok",
     "timestamp": 1649954990831,
     "user": {
      "displayName": "Sam Lu",
      "userId": "15789059763790170725"
     },
     "user_tz": -480
    },
    "id": "FsUgv8sL-tZ4"
   },
   "outputs": [],
   "source": [
    "import matplotlib.pyplot as plt\n",
    "import numpy as np\n",
    "from tqdm import tqdm  # tqdm是显示循环进度条的库\n",
    "\n",
    "\n",
    "class CliffWalkingEnv:\n",
    "    def __init__(self, ncol, nrow):\n",
    "        self.nrow = nrow\n",
    "        self.ncol = ncol\n",
    "        self.x = 0  # 记录当前智能体位置的横坐标\n",
    "        self.y = self.nrow - 1  # 记录当前智能体位置的纵坐标\n",
    "\n",
    "    def step(self, action):  # 外部调用这个函数来改变当前位置\n",
    "        # 4种动作, change[0]:上, change[1]:下, change[2]:左, change[3]:右。坐标系原点(0,0)\n",
    "        # 定义在左上角\n",
    "        change = [[0, -1], [0, 1], [-1, 0], [1, 0]]\n",
    "        self.x = min(self.ncol - 1, max(0, self.x + change[action][0]))\n",
    "        self.y = min(self.nrow - 1, max(0, self.y + change[action][1]))\n",
    "        next_state = self.y * self.ncol + self.x\n",
    "        reward = -1\n",
    "        done = False\n",
    "        if self.y == self.nrow - 1 and self.x > 0:  # 下一个位置在悬崖或者目标\n",
    "            done = True\n",
    "            if self.x != self.ncol - 1:\n",
    "                reward = -100\n",
    "        return next_state, reward, done\n",
    "\n",
    "    def reset(self):  # 回归初始状态,坐标轴原点在左上角\n",
    "        self.x = 0\n",
    "        self.y = self.nrow - 1\n",
    "        return self.y * self.ncol + self.x"
   ]
  },
  {
   "cell_type": "code",
   "execution_count": 2,
   "metadata": {
    "executionInfo": {
     "elapsed": 428,
     "status": "ok",
     "timestamp": 1649954991256,
     "user": {
      "displayName": "Sam Lu",
      "userId": "15789059763790170725"
     },
     "user_tz": -480
    },
    "id": "BtsnlukF-tZ8"
   },
   "outputs": [],
   "source": [
    "class Sarsa:\n",
    "    \"\"\" Sarsa算法 \"\"\"\n",
    "    def __init__(self, ncol, nrow, epsilon, alpha, gamma, n_action=4):\n",
    "        self.Q_table = np.zeros([nrow * ncol, n_action])  # 初始化Q(s,a)表格\n",
    "        self.n_action = n_action  # 动作个数\n",
    "        self.alpha = alpha  # 学习率\n",
    "        self.gamma = gamma  # 折扣因子\n",
    "        self.epsilon = epsilon  # epsilon-贪婪策略中的参数\n",
    "\n",
    "    def take_action(self, state):  # 选取下一步的操作,具体实现为epsilon-贪婪\n",
    "        if np.random.random() < self.epsilon:\n",
    "            action = np.random.randint(self.n_action)\n",
    "        else:\n",
    "            action = np.argmax(self.Q_table[state])\n",
    "        return action\n",
    "\n",
    "    def best_action(self, state):  # 用于打印策略\n",
    "        Q_max = np.max(self.Q_table[state])\n",
    "        a = [0 for _ in range(self.n_action)]\n",
    "        for i in range(self.n_action):  # 若两个动作的价值一样,都会记录下来\n",
    "            if self.Q_table[state, i] == Q_max:\n",
    "                a[i] = 1\n",
    "        return a\n",
    "\n",
    "    def update(self, s0, a0, r, s1, a1):\n",
    "        td_error = r + self.gamma * self.Q_table[s1, a1] - self.Q_table[s0, a0]\n",
    "        self.Q_table[s0, a0] += self.alpha * td_error"
   ]
  },
  {
   "cell_type": "code",
   "execution_count": 3,
   "metadata": {
    "colab": {
     "base_uri": "https://localhost:8080/",
     "height": 469
    },
    "executionInfo": {
     "elapsed": 940,
     "status": "ok",
     "timestamp": 1649954992180,
     "user": {
      "displayName": "Sam Lu",
      "userId": "15789059763790170725"
     },
     "user_tz": -480
    },
    "id": "VzvRu8KZ-tZ9",
    "outputId": "22cd31df-9cdd-4a2c-83d5-cfccc320a9f0"
   },
   "outputs": [
    {
     "name": "stderr",
     "output_type": "stream",
     "text": [
      "Iteration 0: 100%|██████████| 50/50 [00:00<00:00, 748.17it/s, episode=50, return=-119.400]\n",
      "Iteration 1: 100%|██████████| 50/50 [00:00<00:00, 929.51it/s, episode=100, return=-63.000]\n",
      "Iteration 2: 100%|██████████| 50/50 [00:00<00:00, 902.21it/s, episode=150, return=-51.200]\n",
      "Iteration 3: 100%|██████████| 50/50 [00:00<00:00, 565.54it/s, episode=200, return=-48.100]\n",
      "Iteration 4: 100%|██████████| 50/50 [00:00<00:00, 865.24it/s, episode=250, return=-35.700]\n",
      "Iteration 5: 100%|██████████| 50/50 [00:00<00:00, 1049.89it/s, episode=300, return=-29.900]\n",
      "Iteration 6: 100%|██████████| 50/50 [00:00<00:00, 872.22it/s, episode=350, return=-28.300] \n",
      "Iteration 7: 100%|██████████| 50/50 [00:00<00:00, 926.87it/s, episode=400, return=-27.700] \n",
      "Iteration 8: 100%|██████████| 50/50 [00:00<00:00, 855.09it/s, episode=450, return=-28.500]\n",
      "Iteration 9: 100%|██████████| 50/50 [00:00<00:00, 988.76it/s, episode=500, return=-18.900] \n"
     ]
    },
    {
     "data": {
      "image/png": "[encoded data removed]",
      "text/plain": [
       "<Figure size 432x288 with 1 Axes>"
      ]
     },
     "metadata": {
      "needs_background": "light"
     },
     "output_type": "display_data"
    }
   ],
   "source": [
    "ncol = 12\n",
    "nrow = 4\n",
    "env = CliffWalkingEnv(ncol, nrow)\n",
    "np.random.seed(0)\n",
    "epsilon = 0.1\n",
    "alpha = 0.1\n",
    "gamma = 0.9\n",
    "agent = Sarsa(ncol, nrow, epsilon, alpha, gamma)\n",
    "num_episodes = 500  # 智能体在环境中运行的序列的数量\n",
    "\n",
    "return_list = []  # 记录每一条序列的回报\n",
    "for i in range(10):  # 显示10个进度条\n",
    "    # tqdm的进度条功能\n",
    "    with tqdm(total=int(num_episodes / 10), desc='Iteration %d' % i) as pbar:\n",
    "        for i_episode in range(int(num_episodes / 10)):  # 每个进度条的序列数\n",
    "            episode_return = 0\n",
    "            state = env.reset()\n",
    "            action = agent.take_action(state)\n",
    "            done = False\n",
    "            while not done:\n",
    "                next_state, reward, done = env.step(action)\n",
    "                next_action = agent.take_action(next_state)\n",
    "                episode_return += reward  # 这里回报的计算不进行折扣因子衰减\n",
    "                agent.update(state, action, reward, next_state, next_action)\n",
    "                state = next_state\n",
    "                action = next_action\n",
    "            return_list.append(episode_return)\n",
    "            if (i_episode + 1) % 10 == 0:  # 每10条序列打印一下这10条序列的平均回报\n",
    "                pbar.set_postfix({\n",
    "                    'episode':\n",
    "                    '%d' % (num_episodes / 10 * i + i_episode + 1),\n",
    "                    'return':\n",
    "                    '%.3f' % np.mean(return_list[-10:])\n",
    "                })\n",
    "            pbar.update(1)\n",
    "\n",
    "episodes_list = list(range(len(return_list)))\n",
    "plt.plot(episodes_list, return_list)\n",
    "plt.xlabel('Episodes')\n",
    "plt.ylabel('Returns')\n",
    "plt.title('Sarsa on {}'.format('Cliff Walking'))\n",
    "plt.show()\n",
    "\n",
    "# Iteration 0: 100%|██████████| 50/50 [00:00<00:00, 1206.19it/s, episode=50,\n",
    "# return=-119.400]\n",
    "# Iteration 1: 100%|██████████| 50/50 [00:00<00:00, 1379.84it/s, episode=100,\n",
    "# return=-63.000]\n",
    "# Iteration 2: 100%|██████████| 50/50 [00:00<00:00, 2225.14it/s, episode=150,\n",
    "# return=-51.200]\n",
    "# Iteration 3: 100%|██████████| 50/50 [00:00<00:00, 2786.80it/s, episode=200,\n",
    "# return=-48.100]\n",
    "# Iteration 4: 100%|██████████| 50/50 [00:00<00:00, 1705.21it/s, episode=250,\n",
    "# return=-35.700]\n",
    "# Iteration 5: 100%|██████████| 50/50 [00:00<00:00, 3393.12it/s, episode=300,\n",
    "# return=-29.900]\n",
    "# Iteration 6: 100%|██████████| 50/50 [00:00<00:00, 3694.32it/s, episode=350,\n",
    "# return=-28.300]\n",
    "# Iteration 7: 100%|██████████| 50/50 [00:00<00:00, 3705.87it/s, episode=400,\n",
    "# return=-27.700]\n",
    "# Iteration 8: 100%|██████████| 50/50 [00:00<00:00, 4115.61it/s, episode=450,\n",
    "# return=-28.500]\n",
    "# Iteration 9: 100%|██████████| 50/50 [00:00<00:00, 3423.20it/s, episode=500,\n",
    "# return=-18.900]"
   ]
  },
  {
   "cell_type": "code",
   "execution_count": 4,
   "metadata": {
    "colab": {
     "base_uri": "https://localhost:8080/"
    },
    "executionInfo": {
     "elapsed": 3,
     "status": "ok",
     "timestamp": 1649954992624,
     "user": {
      "displayName": "Sam Lu",
      "userId": "15789059763790170725"
     },
     "user_tz": -480
    },
    "id": "pDQX_Nrw-tZ_",
    "outputId": "f6139e63-8251-4731-8110-31492a83c86f"
   },
   "outputs": [
    {
     "name": "stdout",
     "output_type": "stream",
     "text": [
      "Sarsa算法最终收敛得到的策略为：\n",
      "ooo> ooo> ooo> ooo> ooo> ooo> ooo> ooo> ooo> ooo> ooo> ovoo \n",
      "ooo> ooo> ooo> ooo> ooo> ooo> ooo> ooo> ooo> ooo> ooo> ovoo \n",
      "^ooo ooo> ^ooo ooo> ooo> ooo> ooo> ^ooo ^ooo ooo> ooo> ovoo \n",
      "^ooo **** **** **** **** **** **** **** **** **** **** EEEE \n"
     ]
    }
   ],
   "source": [
    "def print_agent(agent, env, action_meaning, disaster=[], end=[]):\n",
    "    for i in range(env.nrow):\n",
    "        for j in range(env.ncol):\n",
    "            if (i * env.ncol + j) in disaster:\n",
    "                print('****', end=' ')\n",
    "            elif (i * env.ncol + j) in end:\n",
    "                print('EEEE', end=' ')\n",
    "            else:\n",
    "                a = agent.best_action(i * env.ncol + j)\n",
    "                pi_str = ''\n",
    "                for k in range(len(action_meaning)):\n",
    "                    pi_str += action_meaning[k] if a[k] > 0 else 'o'\n",
    "                print(pi_str, end=' ')\n",
    "        print()\n",
    "\n",
    "\n",
    "action_meaning = ['^', 'v', '<', '>']\n",
    "print('Sarsa算法最终收敛得到的策略为：')\n",
    "print_agent(agent, env, action_meaning, list(range(37, 47)), [47])\n",
    "\n",
    "# Sarsa算法最终收敛得到的策略为：\n",
    "# ooo> ooo> ooo> ooo> ooo> ooo> ooo> ooo> ooo> ooo> ooo> ovoo\n",
    "# ooo> ooo> ooo> ooo> ooo> ooo> ooo> ooo> ooo> ooo> ooo> ovoo\n",
    "# ^ooo ooo> ^ooo ooo> ooo> ooo> ooo> ^ooo ^ooo ooo> ooo> ovoo\n",
    "# ^ooo **** **** **** **** **** **** **** **** **** **** EEEE"
   ]
  },
  {
   "cell_type": "code",
   "execution_count": 5,
   "metadata": {
    "colab": {
     "base_uri": "https://localhost:8080/",
     "height": 469
    },
    "executionInfo": {
     "elapsed": 1302,
     "status": "ok",
     "timestamp": 1649954995824,
     "user": {
      "displayName": "Sam Lu",
      "userId": "15789059763790170725"
     },
     "user_tz": -480
    },
    "id": "0ZzmFvbA-tZ_",
    "outputId": "ee855cdd-16db-425c-8dd7-71d23aa182a6"
   },
   "outputs": [
    {
     "name": "stderr",
     "output_type": "stream",
     "text": [
      "Iteration 0: 100%|██████████| 50/50 [00:00<00:00, 790.85it/s, episode=50, return=-26.500]\n",
      "Iteration 1: 100%|██████████| 50/50 [00:00<00:00, 1366.35it/s, episode=100, return=-35.200]\n",
      "Iteration 2: 100%|██████████| 50/50 [00:00<00:00, 1457.31it/s, episode=150, return=-20.100]\n",
      "Iteration 3: 100%|██████████| 50/50 [00:00<00:00, 869.99it/s, episode=200, return=-27.200] \n",
      "Iteration 4: 100%|██████████| 50/50 [00:00<00:00, 713.46it/s, episode=250, return=-19.300]\n",
      "Iteration 5: 100%|██████████| 50/50 [00:00<00:00, 841.88it/s, episode=300, return=-27.400]\n",
      "Iteration 6: 100%|██████████| 50/50 [00:00<00:00, 792.21it/s, episode=350, return=-28.000]\n",
      "Iteration 7: 100%|██████████| 50/50 [00:00<00:00, 1135.73it/s, episode=400, return=-36.500]\n",
      "Iteration 8: 100%|██████████| 50/50 [00:00<00:00, 624.91it/s, episode=450, return=-27.000]\n",
      "Iteration 9: 100%|██████████| 50/50 [00:00<00:00, 1092.57it/s, episode=500, return=-19.100]\n"
     ]
    },
    {
     "data": {
      "image/png": "[encoded data removed]",
      "text/plain": [
       "<Figure size 432x288 with 1 Axes>"
      ]
     },
     "metadata": {
      "needs_background": "light"
     },
     "output_type": "display_data"
    }
   ],
   "source": [
    "class nstep_Sarsa:\n",
    "    \"\"\" n步Sarsa算法 \"\"\"\n",
    "    def __init__(self, n, ncol, nrow, epsilon, alpha, gamma, n_action=4):\n",
    "        self.Q_table = np.zeros([nrow * ncol, n_action])\n",
    "        self.n_action = n_action\n",
    "        self.alpha = alpha\n",
    "        self.gamma = gamma\n",
    "        self.epsilon = epsilon\n",
    "        self.n = n  # 采用n步Sarsa算法\n",
    "        self.state_list = []  # 保存之前的状态\n",
    "        self.action_list = []  # 保存之前的动作\n",
    "        self.reward_list = []  # 保存之前的奖励\n",
    "\n",
    "    def take_action(self, state):\n",
    "        if np.random.random() < self.epsilon:\n",
    "            action = np.random.randint(self.n_action)\n",
    "        else:\n",
    "            action = np.argmax(self.Q_table[state])\n",
    "        return action\n",
    "\n",
    "    def best_action(self, state):  # 用于打印策略\n",
    "        Q_max = np.max(self.Q_table[state])\n",
    "        a = [0 for _ in range(self.n_action)]\n",
    "        for i in range(self.n_action):\n",
    "            if self.Q_table[state, i] == Q_max:\n",
    "                a[i] = 1\n",
    "        return a\n",
    "\n",
    "    def update(self, s0, a0, r, s1, a1, done):\n",
    "        self.state_list.append(s0)\n",
    "        self.action_list.append(a0)\n",
    "        self.reward_list.append(r)\n",
    "        if len(self.state_list) == self.n:  # 若保存的数据可以进行n步更新\n",
    "            G = self.Q_table[s1, a1]  # 得到Q(s_{t+n}, a_{t+n})\n",
    "            for i in reversed(range(self.n)):\n",
    "                G = self.gamma * G + self.reward_list[i]  # 不断向前计算每一步的回报\n",
    "                # 如果到达终止状态,最后几步虽然长度不够n步,也将其进行更新\n",
    "                if done and i > 0:\n",
    "                    s = self.state_list[i]\n",
    "                    a = self.action_list[i]\n",
    "                    self.Q_table[s, a] += self.alpha * (G - self.Q_table[s, a])\n",
    "            s = self.state_list.pop(0)  # 将需要更新的状态动作从列表中删除,下次不必更新\n",
    "            a = self.action_list.pop(0)\n",
    "            self.reward_list.pop(0)\n",
    "            # n步Sarsa的主要更新步骤\n",
    "            self.Q_table[s, a] += self.alpha * (G - self.Q_table[s, a])\n",
    "        if done:  # 如果到达终止状态,即将开始下一条序列,则将列表全清空\n",
    "            self.state_list = []\n",
    "            self.action_list = []\n",
    "            self.reward_list = []\n",
    "\n",
    "\n",
    "np.random.seed(0)\n",
    "n_step = 5  # 5步Sarsa算法\n",
    "alpha = 0.1\n",
    "epsilon = 0.1\n",
    "gamma = 0.9\n",
    "agent = nstep_Sarsa(n_step, ncol, nrow, epsilon, alpha, gamma)\n",
    "num_episodes = 500  # 智能体在环境中运行的序列的数量\n",
    "\n",
    "return_list = []  # 记录每一条序列的回报\n",
    "for i in range(10):  # 显示10个进度条\n",
    "    #tqdm的进度条功能\n",
    "    with tqdm(total=int(num_episodes / 10), desc='Iteration %d' % i) as pbar:\n",
    "        for i_episode in range(int(num_episodes / 10)):  # 每个进度条的序列数\n",
    "            episode_return = 0\n",
    "            state = env.reset()\n",
    "            action = agent.take_action(state)\n",
    "            done = False\n",
    "            while not done:\n",
    "                next_state, reward, done = env.step(action)\n",
    "                next_action = agent.take_action(next_state)\n",
    "                episode_return += reward  # 这里回报的计算不进行折扣因子衰减\n",
    "                agent.update(state, action, reward, next_state, next_action,\n",
    "                             done)\n",
    "                state = next_state\n",
    "                action = next_action\n",
    "            return_list.append(episode_return)\n",
    "            if (i_episode + 1) % 10 == 0:  # 每10条序列打印一下这10条序列的平均回报\n",
    "                pbar.set_postfix({\n",
    "                    'episode':\n",
    "                    '%d' % (num_episodes / 10 * i + i_episode + 1),\n",
    "                    'return':\n",
    "                    '%.3f' % np.mean(return_list[-10:])\n",
    "                })\n",
    "            pbar.update(1)\n",
    "\n",
    "episodes_list = list(range(len(return_list)))\n",
    "plt.plot(episodes_list, return_list)\n",
    "plt.xlabel('Episodes')\n",
    "plt.ylabel('Returns')\n",
    "plt.title('5-step Sarsa on {}'.format('Cliff Walking'))\n",
    "plt.show()\n",
    "\n",
    "# Iteration 0: 100%|██████████| 50/50 [00:00<00:00, 937.03it/s, episode=50,\n",
    "# return=-26.500]\n",
    "# Iteration 1: 100%|██████████| 50/50 [00:00<00:00, 2955.94it/s, episode=100,\n",
    "# return=-35.200]\n",
    "# Iteration 2: 100%|██████████| 50/50 [00:00<00:00, 2978.95it/s, episode=150,\n",
    "# return=-20.100]\n",
    "# Iteration 3: 100%|██████████| 50/50 [00:00<00:00, 3062.61it/s, episode=200,\n",
    "# return=-27.200]\n",
    "# Iteration 4: 100%|██████████| 50/50 [00:00<00:00, 3172.36it/s, episode=250,\n",
    "# return=-19.300]\n",
    "# Iteration 5: 100%|██████████| 50/50 [00:00<00:00, 3123.41it/s, episode=300,\n",
    "# return=-27.400]\n",
    "# Iteration 6: 100%|██████████| 50/50 [00:00<00:00, 2875.33it/s, episode=350,\n",
    "# return=-28.000]\n",
    "# Iteration 7: 100%|██████████| 50/50 [00:00<00:00, 2262.18it/s, episode=400,\n",
    "# return=-36.500]\n",
    "# Iteration 8: 100%|██████████| 50/50 [00:00<00:00, 3100.00it/s, episode=450,\n",
    "# return=-27.000]\n",
    "# Iteration 9: 100%|██████████| 50/50 [00:00<00:00, 3107.54it/s, episode=500,\n",
    "# return=-19.100]"
   ]
  },
  {
   "cell_type": "code",
   "execution_count": 6,
   "metadata": {
    "colab": {
     "base_uri": "https://localhost:8080/"
    },
    "executionInfo": {
     "elapsed": 541,
     "status": "ok",
     "timestamp": 1649954998993,
     "user": {
      "displayName": "Sam Lu",
      "userId": "15789059763790170725"
     },
     "user_tz": -480
    },
    "id": "EAxG4OS6-taA",
    "outputId": "f7187b7a-de76-496e-8225-9bbf1ac445f7"
   },
   "outputs": [
    {
     "name": "stdout",
     "output_type": "stream",
     "text": [
      "5步Sarsa算法最终收敛得到的策略为：\n",
      "ooo> ooo> ooo> ooo> ooo> ooo> ooo> ooo> ooo> ooo> ooo> ovoo \n",
      "^ooo ^ooo ^ooo oo<o ^ooo ^ooo ^ooo ^ooo ooo> ooo> ^ooo ovoo \n",
      "ooo> ^ooo ^ooo ^ooo ^ooo ^ooo ^ooo ooo> ooo> ^ooo ooo> ovoo \n",
      "^ooo **** **** **** **** **** **** **** **** **** **** EEEE \n"
     ]
    }
   ],
   "source": [
    "action_meaning = ['^', 'v', '<', '>']\n",
    "print('5步Sarsa算法最终收敛得到的策略为：')\n",
    "print_agent(agent, env, action_meaning, list(range(37, 47)), [47])\n",
    "\n",
    "# 5步Sarsa算法最终收敛得到的策略为：\n",
    "# ooo> ooo> ooo> ooo> ooo> ooo> ooo> ooo> ooo> ooo> ooo> ovoo\n",
    "# ^ooo ^ooo ^ooo oo<o ^ooo ^ooo ^ooo ^ooo ooo> ooo> ^ooo ovoo\n",
    "# ooo> ^ooo ^ooo ^ooo ^ooo ^ooo ^ooo ooo> ooo> ^ooo ooo> ovoo\n",
    "# ^ooo **** **** **** **** **** **** **** **** **** **** EEEE"
   ]
  },
  {
   "cell_type": "code",
   "execution_count": 7,
   "metadata": {
    "colab": {
     "base_uri": "https://localhost:8080/",
     "height": 555
    },
    "executionInfo": {
     "elapsed": 1764,
     "status": "ok",
     "timestamp": 1649955002573,
     "user": {
      "displayName": "Sam Lu",
      "userId": "15789059763790170725"
     },
     "user_tz": -480
    },
    "id": "jgg5kRgg-taB",
    "outputId": "ec4a5456-d8cc-46ff-d127-54bd4e16e156"
   },
   "outputs": [
    {
     "name": "stderr",
     "output_type": "stream",
     "text": [
      "Iteration 0: 100%|██████████| 50/50 [00:00<00:00, 648.07it/s, episode=50, return=-105.700]\n",
      "Iteration 1: 100%|██████████| 50/50 [00:00<00:00, 376.42it/s, episode=100, return=-70.900]\n",
      "Iteration 2: 100%|██████████| 50/50 [00:00<00:00, 457.03it/s, episode=150, return=-56.500]\n",
      "Iteration 3: 100%|██████████| 50/50 [00:00<00:00, 444.18it/s, episode=200, return=-46.500]\n",
      "Iteration 4: 100%|██████████| 50/50 [00:00<00:00, 775.41it/s, episode=250, return=-40.800]\n",
      "Iteration 5: 100%|██████████| 50/50 [00:00<00:00, 1067.26it/s, episode=300, return=-20.400]\n",
      "Iteration 6: 100%|██████████| 50/50 [00:00<00:00, 1053.36it/s, episode=350, return=-45.700]\n",
      "Iteration 7: 100%|██████████| 50/50 [00:00<00:00, 650.74it/s, episode=400, return=-32.800] \n",
      "Iteration 8: 100%|██████████| 50/50 [00:00<00:00, 680.47it/s, episode=450, return=-22.700]\n",
      "Iteration 9: 100%|██████████| 50/50 [00:00<00:00, 1112.17it/s, episode=500, return=-61.700]\n"
     ]
    },
    {
     "data": {
      "image/png": "[encoded data removed]",
      "text/plain": [
       "<Figure size 432x288 with 1 Axes>"
      ]
     },
     "metadata": {
      "needs_background": "light"
     },
     "output_type": "display_data"
    },
    {
     "name": "stdout",
     "output_type": "stream",
     "text": [
      "Q-learning算法最终收敛得到的策略为：\n",
      "^ooo ovoo ovoo ^ooo ^ooo ovoo ooo> ^ooo ^ooo ooo> ooo> ovoo \n",
      "ooo> ooo> ooo> ooo> ooo> ooo> ^ooo ooo> ooo> ooo> ooo> ovoo \n",
      "ooo> ooo> ooo> ooo> ooo> ooo> ooo> ooo> ooo> ooo> ooo> ovoo \n",
      "^ooo **** **** **** **** **** **** **** **** **** **** EEEE \n"
     ]
    }
   ],
   "source": [
    "class QLearning:\n",
    "    \"\"\" Q-learning算法 \"\"\"\n",
    "    def __init__(self, ncol, nrow, epsilon, alpha, gamma, n_action=4):\n",
    "        self.Q_table = np.zeros([nrow * ncol, n_action])  # 初始化Q(s,a)表格\n",
    "        self.n_action = n_action  # 动作个数\n",
    "        self.alpha = alpha  # 学习率\n",
    "        self.gamma = gamma  # 折扣因子\n",
    "        self.epsilon = epsilon  # epsilon-贪婪策略中的参数\n",
    "\n",
    "    def take_action(self, state):  #选取下一步的操作\n",
    "        if np.random.random() < self.epsilon:\n",
    "            action = np.random.randint(self.n_action)\n",
    "        else:\n",
    "            action = np.argmax(self.Q_table[state])\n",
    "        return action\n",
    "\n",
    "    def best_action(self, state):  # 用于打印策略\n",
    "        Q_max = np.max(self.Q_table[state])\n",
    "        a = [0 for _ in range(self.n_action)]\n",
    "        for i in range(self.n_action):\n",
    "            if self.Q_table[state, i] == Q_max:\n",
    "                a[i] = 1\n",
    "        return a\n",
    "\n",
    "    def update(self, s0, a0, r, s1):\n",
    "        td_error = r + self.gamma * self.Q_table[s1].max(\n",
    "        ) - self.Q_table[s0, a0]\n",
    "        self.Q_table[s0, a0] += self.alpha * td_error\n",
    "\n",
    "\n",
    "np.random.seed(0)\n",
    "epsilon = 0.1\n",
    "alpha = 0.1\n",
    "gamma = 0.9\n",
    "agent = QLearning(ncol, nrow, epsilon, alpha, gamma)\n",
    "num_episodes = 500  # 智能体在环境中运行的序列的数量\n",
    "\n",
    "return_list = []  # 记录每一条序列的回报\n",
    "for i in range(10):  # 显示10个进度条\n",
    "    # tqdm的进度条功能\n",
    "    with tqdm(total=int(num_episodes / 10), desc='Iteration %d' % i) as pbar:\n",
    "        for i_episode in range(int(num_episodes / 10)):  # 每个进度条的序列数\n",
    "            episode_return = 0\n",
    "            state = env.reset()\n",
    "            done = False\n",
    "            while not done:\n",
    "                action = agent.take_action(state)\n",
    "                next_state, reward, done = env.step(action)\n",
    "                episode_return += reward  # 这里回报的计算不进行折扣因子衰减\n",
    "                agent.update(state, action, reward, next_state)\n",
    "                state = next_state\n",
    "            return_list.append(episode_return)\n",
    "            if (i_episode + 1) % 10 == 0:  # 每10条序列打印一下这10条序列的平均回报\n",
    "                pbar.set_postfix({\n",
    "                    'episode':\n",
    "                    '%d' % (num_episodes / 10 * i + i_episode + 1),\n",
    "                    'return':\n",
    "                    '%.3f' % np.mean(return_list[-10:])\n",
    "                })\n",
    "            pbar.update(1)\n",
    "\n",
    "episodes_list = list(range(len(return_list)))\n",
    "plt.plot(episodes_list, return_list)\n",
    "plt.xlabel('Episodes')\n",
    "plt.ylabel('Returns')\n",
    "plt.title('Q-learning on {}'.format('Cliff Walking'))\n",
    "plt.show()\n",
    "\n",
    "action_meaning = ['^', 'v', '<', '>']\n",
    "print('Q-learning算法最终收敛得到的策略为：')\n",
    "print_agent(agent, env, action_meaning, list(range(37, 47)), [47])\n",
    "\n",
    "# Iteration 0: 100%|██████████| 50/50 [00:00<00:00, 1183.69it/s, episode=50,\n",
    "# return=-105.700]\n",
    "# Iteration 1: 100%|██████████| 50/50 [00:00<00:00, 1358.13it/s, episode=100,\n",
    "# return=-70.900]\n",
    "# Iteration 2: 100%|██████████| 50/50 [00:00<00:00, 1433.72it/s, episode=150,\n",
    "# return=-56.500]\n",
    "# Iteration 3: 100%|██████████| 50/50 [00:00<00:00, 2607.78it/s, episode=200,\n",
    "# return=-46.500]\n",
    "# Iteration 4: 100%|██████████| 50/50 [00:00<00:00, 3007.19it/s, episode=250,\n",
    "# return=-40.800]\n",
    "# Iteration 5: 100%|██████████| 50/50 [00:00<00:00, 2005.77it/s, episode=300,\n",
    "# return=-20.400]\n",
    "# Iteration 6: 100%|██████████| 50/50 [00:00<00:00, 2072.14it/s, episode=350,\n",
    "# return=-45.700]\n",
    "# Iteration 7: 100%|██████████| 50/50 [00:00<00:00, 4244.04it/s, episode=400,\n",
    "# return=-32.800]\n",
    "# Iteration 8: 100%|██████████| 50/50 [00:00<00:00, 4670.82it/s, episode=450,\n",
    "# return=-22.700]\n",
    "# Iteration 9: 100%|██████████| 50/50 [00:00<00:00, 4705.19it/s, episode=500,\n",
    "# return=-61.700]\n",
    "\n",
    "# Q-learning算法最终收敛得到的策略为：\n",
    "# ^ooo ovoo ovoo ^ooo ^ooo ovoo ooo> ^ooo ^ooo ooo> ooo> ovoo\n",
    "# ooo> ooo> ooo> ooo> ooo> ooo> ^ooo ooo> ooo> ooo> ooo> ovoo\n",
    "# ooo> ooo> ooo> ooo> ooo> ooo> ooo> ooo> ooo> ooo> ooo> ovoo\n",
    "# ^ooo **** **** **** **** **** **** **** **** **** **** EEEE"
   ]
  }
 ],
 "metadata": {
  "colab": {
   "collapsed_sections": [],
   "name": "第5章-时序差分算法.ipynb",
   "provenance": []
  },
  "kernelspec": {
   "display_name": "Python 3",
   "language": "python",
   "name": "python3"
  },
  "language_info": {
   "codemirror_mode": {
    "name": "ipython",
    "version": 3
   },
   "file_extension": ".py",
   "mimetype": "text/x-python",
   "name": "python",
   "nbconvert_exporter": "python",
   "pygments_lexer": "ipython3",
   "version": "3.7.6"
  }
 },
 "nbformat": 4,
 "nbformat_minor": 1
}
